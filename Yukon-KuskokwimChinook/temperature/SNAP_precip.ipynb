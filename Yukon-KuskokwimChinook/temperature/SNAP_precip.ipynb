{
 "cells": [
  {
   "cell_type": "markdown",
   "metadata": {
    "collapsed": true,
    "pycharm": {
     "name": "#%% md\n"
    }
   },
   "source": [
    "Extracting fall precipitation from SNAP grids.\n",
    "Already have CRU TS 4.0, which goes through 2015.\n",
    "It looks like previous calculations for CI took an average of total monthly precipitation\n",
    "for August-November. We want the maximum fall monthly precipitation.\n",
    "\n"
   ]
  },
  {
   "cell_type": "code",
   "execution_count": null,
   "outputs": [],
   "source": [
    "import arcpy\n",
    "import os\n",
    "\n",
    "precip_folder = r\"S:\\\\Leslie\\\\GIS\\\\SNAP\\\\Precip_CRU_TS_40\\\\pr\"\n",
    "out_folder = r\"W:\\\\GIS\\\\SNAP\\\\ASON_max_pr_total\"\n",
    "\n",
    "# list files\n",
    "os.listdir(precip_folder)\n",
    "\n",
    "# loop through years and calculate max\n"
   ],
   "metadata": {
    "collapsed": false,
    "pycharm": {
     "name": "#%%\n"
    }
   }
  }
 ],
 "metadata": {
  "kernelspec": {
   "display_name": "Python 3",
   "language": "python",
   "name": "python3"
  },
  "language_info": {
   "codemirror_mode": {
    "name": "ipython",
    "version": 2
   },
   "file_extension": ".py",
   "mimetype": "text/x-python",
   "name": "python",
   "nbconvert_exporter": "python",
   "pygments_lexer": "ipython2",
   "version": "2.7.6"
  }
 },
 "nbformat": 4,
 "nbformat_minor": 0
}